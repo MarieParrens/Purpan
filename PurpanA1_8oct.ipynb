{
 "cells": [
  {
   "cell_type": "markdown",
   "metadata": {},
   "source": [
    "# Les bases de la programmation R\n",
    "\n",
    "R est un langage de programmation « interprété » (en opposition avec « compilé »).\n",
    "C’est-à-dire que dès que l’on tape une ligne de code, on la valide et on voit immédiatement le résultat.\n",
    "On n’a pas besoin de l’étape de compilation : le code est compilée à la volée.\n",
    "C’est souvent beaucoup plus facile pour corriger les erreurs que l’on fait en écrivant le code.\n",
    "\n",
    "Exemple de lagage interprété : Matlab, ENVI, Java, Python...\n",
    "\n",
    "Exemple de langage compilé : C, C++, Fortran, Pascal...\n",
    "\n",
    "### Mes premiers pas en R sous Jupyter"
   ]
  },
  {
   "cell_type": "markdown",
   "metadata": {},
   "source": [
    "Taper un chiffre dans la boite ci dessous et appuyer sur les touches **MAJ+Entrée** pour voir le résultat. Le résultat doit apparaitre sous la boite."
   ]
  },
  {
   "cell_type": "code",
   "execution_count": null,
   "metadata": {},
   "outputs": [],
   "source": [
    "2"
   ]
  },
  {
   "cell_type": "markdown",
   "metadata": {},
   "source": [
    "Soyons rassurés, le logiciel retourne le même résultat. \n",
    "\n",
    "Entrez maintenant une valeur décimale de votre choix (n'oubliez pas de taper sur **MAJ+Entrée** pour afficher le résultat)."
   ]
  },
  {
   "cell_type": "code",
   "execution_count": null,
   "metadata": {},
   "outputs": [],
   "source": []
  },
  {
   "cell_type": "markdown",
   "metadata": {},
   "source": [
    "Attention, une valeur décimale s'écrit avec un point et non une virgule !"
   ]
  },
  {
   "cell_type": "markdown",
   "metadata": {},
   "source": [
    "### Opérations arithmétiques"
   ]
  },
  {
   "cell_type": "markdown",
   "metadata": {},
   "source": [
    "Comme une calculatrice, il est possible de faire des opérations arithmétiques simples avec R, comme par exemple : l'addition, la soustraction, la multiplication et la division. \n",
    "\n",
    "Un exemple est présent dans la boite ci dessous, exécutez le code (cad, tapez sur **MAJ+Entrée**) pour voir le résultat. Ceci est valable pour toutes les autres boites que vous allez rencontrer dans ce document."
   ]
  },
  {
   "cell_type": "code",
   "execution_count": null,
   "metadata": {},
   "outputs": [],
   "source": [
    "(10*3+4)/(78-5)"
   ]
  },
  {
   "cell_type": "markdown",
   "metadata": {},
   "source": [
    "**Exercice** : C'est les soldes ! Un pull à 50 euros est vendu avec une réduction de 30%. Combien vous a coûté le pull ?"
   ]
  },
  {
   "cell_type": "code",
   "execution_count": null,
   "metadata": {},
   "outputs": [],
   "source": []
  },
  {
   "cell_type": "markdown",
   "metadata": {},
   "source": [
    "Le reste de la division s'obtient :"
   ]
  },
  {
   "cell_type": "code",
   "execution_count": null,
   "metadata": {},
   "outputs": [],
   "source": [
    "10%%3"
   ]
  },
  {
   "cell_type": "markdown",
   "metadata": {},
   "source": [
    "La puissance d'un nombre :"
   ]
  },
  {
   "cell_type": "code",
   "execution_count": null,
   "metadata": {},
   "outputs": [],
   "source": [
    "5^6"
   ]
  },
  {
   "cell_type": "markdown",
   "metadata": {},
   "source": [
    "## Les variables"
   ]
  },
  {
   "cell_type": "markdown",
   "metadata": {},
   "source": [
    "Lorsque l'on programme, on a besoin de stocker les résultats quelque part. C'est pour cela que l'on utilise des variables. Chaque variable a un nom unique, et deux variables ne peuvent pas avoir le même nom."
   ]
  },
  {
   "cell_type": "markdown",
   "metadata": {},
   "source": [
    "Les variables servent à stocker des informations qui peuvent prendre plusieurs formes: une valeur numérique (cad un nombre), du texte, un tableau, un vecteur ou encore une matrice."
   ]
  },
  {
   "cell_type": "markdown",
   "metadata": {},
   "source": [
    "Une variable peut être crée avec l'opérateur \"assigner\" qui s'écrit avec le sympole \"inférieur à\" (<) composée d'un signe moins (-) accollé. \n",
    "Dans l'exemple suivant, on crée une variable de nom \"a\" et qui contient le nombre 43"
   ]
  },
  {
   "cell_type": "code",
   "execution_count": null,
   "metadata": {},
   "outputs": [],
   "source": [
    "a <- 43"
   ]
  },
  {
   "cell_type": "markdown",
   "metadata": {},
   "source": [
    "**Exercice** : créer une variable de nom \"toto\" qui contient le chiffre 6"
   ]
  },
  {
   "cell_type": "code",
   "execution_count": null,
   "metadata": {},
   "outputs": [],
   "source": []
  },
  {
   "cell_type": "markdown",
   "metadata": {},
   "source": [
    "Vous pouvez choisir n'importe quels noms pour vos variables à condition de respecter les règles suivantes :\n",
    "\n",
    "- Les noms des variables doivent commencer par une lettre\n",
    "- La casse (caractère en minuscule ou majuscule) est importante (« A » est différent de « a »)\n",
    "- Le nom des variables peuvent contenir des chiffres et des caractères spéciaux (mais pas en 1er caractère)\n",
    "- Les variables ne peuvent pas être appelés avec des noms déjà utilisés par R\n",
    "\n",
    "Il est fortement recommandé d'utiliser un nom de variable qui décrit l'information que l'on y stocke. Par exemple, plutôt que d'écrire :    "
   ]
  },
  {
   "cell_type": "code",
   "execution_count": null,
   "metadata": {},
   "outputs": [],
   "source": [
    "titi <- 25"
   ]
  },
  {
   "cell_type": "markdown",
   "metadata": {},
   "source": [
    "Il est préférable d'écrire :"
   ]
  },
  {
   "cell_type": "code",
   "execution_count": null,
   "metadata": {},
   "outputs": [],
   "source": [
    "NombreDeFromagesEnStock <- 25"
   ]
  },
  {
   "cell_type": "markdown",
   "metadata": {},
   "source": [
    "Ou (c'est question de goût) :"
   ]
  },
  {
   "cell_type": "code",
   "execution_count": null,
   "metadata": {},
   "outputs": [],
   "source": [
    "nombre_de_fromages_en_stock <- 25"
   ]
  },
  {
   "cell_type": "markdown",
   "metadata": {},
   "source": [
    "Essayons maintenant avec une chaine de caractère :"
   ]
  },
  {
   "cell_type": "code",
   "execution_count": null,
   "metadata": {},
   "outputs": [],
   "source": [
    "message_de_bienvenue <- \"bonjour\""
   ]
  },
  {
   "cell_type": "markdown",
   "metadata": {},
   "source": [
    "**Exercice** : créer une variable nommée \"message_en_anglais\" qui contient la chaine de caractère : Hello"
   ]
  },
  {
   "cell_type": "code",
   "execution_count": null,
   "metadata": {},
   "outputs": [],
   "source": []
  },
  {
   "cell_type": "markdown",
   "metadata": {},
   "source": [
    "Vous venez donc de créer plusieurs variables. Pour afficher toutes les variables créées pendant cette session, il faut utiliser la fonction ls() "
   ]
  },
  {
   "cell_type": "code",
   "execution_count": null,
   "metadata": {},
   "outputs": [],
   "source": [
    "ls()"
   ]
  },
  {
   "cell_type": "markdown",
   "metadata": {},
   "source": [
    "Pour voir la valeur prise par une variable, il faut utiliser la fonction print() en mettant dans la paranthèse le nom de la variable dont on veut connaitre sa valeur"
   ]
  },
  {
   "cell_type": "code",
   "execution_count": null,
   "metadata": {},
   "outputs": [],
   "source": [
    "print(a)"
   ]
  },
  {
   "cell_type": "markdown",
   "metadata": {},
   "source": [
    "**Exercice** : Quelle est la valeur de message_de_bienvenue ?"
   ]
  },
  {
   "cell_type": "code",
   "execution_count": null,
   "metadata": {},
   "outputs": [],
   "source": []
  },
  {
   "cell_type": "markdown",
   "metadata": {},
   "source": [
    "## Les fonctions"
   ]
  },
  {
   "cell_type": "markdown",
   "metadata": {},
   "source": [
    "Dans R, il existe déjà de nombreuses fonctions, ce sont :\n",
    "- Outils mathématiques (calcul de la moyenne, somme d’une colonne, etc)\n",
    "- Outils pratique (sauvegarde d’un tableau…)\n",
    "- Outils propre au langage (afficher de l’aide…)\n",
    "\n",
    "Ces outils sont déjà créés dans R (on n’a pas à re-coder)\n",
    "- Ce qui nous fait gagner du temps\n",
    "- Mais, il faut les connaitre\n",
    "\n",
    "On vient déjà d'utiliser deux fonctions : ls() et print()\n",
    "\n",
    "Par contre, on ne peut pas connaitre par coeur toutes les fonctions de R : il faut utiliser l’aide (en utilisant une fonction !)\n",
    "Pour afficher l'aide (en anglais) :"
   ]
  },
  {
   "cell_type": "code",
   "execution_count": null,
   "metadata": {},
   "outputs": [],
   "source": [
    "help()"
   ]
  },
  {
   "cell_type": "markdown",
   "metadata": {},
   "source": [
    "Ou encore si vous voulez afficher l'aide de la fonction \"ls\""
   ]
  },
  {
   "cell_type": "code",
   "execution_count": null,
   "metadata": {},
   "outputs": [],
   "source": [
    "help(ls)"
   ]
  },
  {
   "cell_type": "markdown",
   "metadata": {},
   "source": [
    "ou encore :"
   ]
  },
  {
   "cell_type": "code",
   "execution_count": null,
   "metadata": {},
   "outputs": [],
   "source": [
    "?ls"
   ]
  },
  {
   "cell_type": "markdown",
   "metadata": {},
   "source": [
    "Une fonction est caractérisée par 2 composantes :\n",
    "- Son nom \n",
    "- Liste d’arguments : information dont la fonction a besoin pour travailler. Selon les fonctions, il y a un ou plusieurs arguments.\n",
    "\n",
    "Syntaxe : nom(arguments)\n",
    "\n",
    "**Exercice** : Exprimer la racine carrée de 25 sachant que :\n",
    "- le nom de la fonction est : sqrt()\n",
    "- l'argument est le nombre dont on souhaite connaitre la racine carré."
   ]
  },
  {
   "cell_type": "code",
   "execution_count": null,
   "metadata": {},
   "outputs": [],
   "source": []
  },
  {
   "cell_type": "markdown",
   "metadata": {},
   "source": [
    "**Exemple** : Créer une variable \"lulu\" qui contient un chiffre de votre choix et prenez-en le logarithme népérien.\n",
    "Afficher le résultat.\n",
    "\n",
    "Remarquez que l'on peut écrire plusieurs ligne dans une même boite."
   ]
  },
  {
   "cell_type": "code",
   "execution_count": null,
   "metadata": {},
   "outputs": [],
   "source": [
    "lulu <- 5\n",
    "print(log(lulu))"
   ]
  },
  {
   "cell_type": "markdown",
   "metadata": {},
   "source": [
    "**Exercice** : créer une variable \"fifi\" qui contient la valeur pi/4 et calculer le sinus et le cosinus de cette variable. Afficher le résultat"
   ]
  },
  {
   "cell_type": "code",
   "execution_count": null,
   "metadata": {},
   "outputs": [],
   "source": []
  },
  {
   "cell_type": "markdown",
   "metadata": {},
   "source": [
    "**Exercice** : à quoi servent les fonctions mathématiques suivantes ?\n",
    "- floor()\n",
    "- ceiling()\n",
    "- round()\n",
    "\n",
    "Testez-les avec des nombres décimaux !"
   ]
  },
  {
   "cell_type": "code",
   "execution_count": null,
   "metadata": {},
   "outputs": [],
   "source": []
  },
  {
   "cell_type": "markdown",
   "metadata": {},
   "source": [
    "## Les vecteurs"
   ]
  },
  {
   "cell_type": "markdown",
   "metadata": {},
   "source": [
    "Un vecteur est un élément de base du langage R.\n",
    "C’est une liste d’éléments qui sont tous du même type.\n",
    "C’est une structure qui permet de stocker plusieurs nombres dans une même variable.\n",
    "Le vecteur \"titi\" est un vecteur de taille 4 contenant les chiffres : 1,2,3,5"
   ]
  },
  {
   "cell_type": "code",
   "execution_count": null,
   "metadata": {},
   "outputs": [],
   "source": [
    "titi = c(1,2,3,5)\n",
    "print(titi)"
   ]
  },
  {
   "cell_type": "markdown",
   "metadata": {},
   "source": [
    "Il est souvent utile de vérifier la taille de nos vecteurs :"
   ]
  },
  {
   "cell_type": "code",
   "execution_count": null,
   "metadata": {},
   "outputs": [],
   "source": [
    "length(titi)"
   ]
  },
  {
   "cell_type": "markdown",
   "metadata": {},
   "source": [
    "Le vecteur titi est bien de taille 4 !\n",
    "Garder en tête qu'un nombre est un vecteur de taille 1.\n",
    "\n",
    "Selon le contexte, il existe beaucoup de solution pour créer un vecteurs sous R : "
   ]
  },
  {
   "cell_type": "code",
   "execution_count": null,
   "metadata": {},
   "outputs": [],
   "source": [
    "# concatener(i.e coller) des vecteurs\n",
    "vec <- c(1,45,6,78)\n",
    "print(vec)"
   ]
  },
  {
   "cell_type": "code",
   "execution_count": null,
   "metadata": {},
   "outputs": [],
   "source": [
    "# générer une suite de 1 à 10 \n",
    "vec <- 1:10\n",
    "print(vec)"
   ]
  },
  {
   "cell_type": "code",
   "execution_count": null,
   "metadata": {},
   "outputs": [],
   "source": [
    "# générer une suite de 1 à 10 par pas de 2\n",
    "vec <- seq(1,10,by=2)\n",
    "print(vec)"
   ]
  },
  {
   "cell_type": "code",
   "execution_count": null,
   "metadata": {},
   "outputs": [],
   "source": [
    "# générer une suite composée de 13 éléments avec le plut petit égal à 1 et le plus grand égal à 20\n",
    "vec <- seq(1,20,length=13)\n",
    "print(vec)"
   ]
  },
  {
   "cell_type": "markdown",
   "metadata": {},
   "source": [
    "Dans ces quatre dernières boites, les lignes commençant par # sont des commentaires : ce sont des lignes non interprétées par R qui permettent d'expliquer le code."
   ]
  },
  {
   "cell_type": "markdown",
   "metadata": {},
   "source": [
    "**Exercice** : Créer un vecteur de taille 40, nommé gégé, dont les 20 premiers éléments sont une suite de 11 à 30 et les 20 derniers éléments, une suite décroissante de 40 à 21."
   ]
  },
  {
   "cell_type": "code",
   "execution_count": null,
   "metadata": {},
   "outputs": [],
   "source": []
  },
  {
   "cell_type": "markdown",
   "metadata": {},
   "source": [
    "Comment fait-on pour obtenir le 4ème élément du vecteur ?"
   ]
  },
  {
   "cell_type": "code",
   "execution_count": null,
   "metadata": {},
   "outputs": [],
   "source": [
    "# création d'un vecteur \n",
    "vec <- 11:20\n",
    "# création d'une nouvelle variable qui contient le 4ème élément du vecteur vec\n",
    "a <- vec[4]\n",
    "# affichage du résultat\n",
    "print(a)"
   ]
  },
  {
   "cell_type": "markdown",
   "metadata": {},
   "source": [
    "**Exercice** : Quel est la valeur du 33ème terme du vecteur \"gégé\". Afficher le résultat."
   ]
  },
  {
   "cell_type": "code",
   "execution_count": null,
   "metadata": {},
   "outputs": [],
   "source": []
  },
  {
   "cell_type": "markdown",
   "metadata": {},
   "source": [
    "### Des vecteurs et des fonctions !\n",
    "\n",
    "Nous allons tester différentes fonctions sur un vecteur. Commençons par créer un vecteur de taille 10 contenant des nombres choisis aléatoirement avec la fonction sample()"
   ]
  },
  {
   "cell_type": "code",
   "execution_count": null,
   "metadata": {},
   "outputs": [],
   "source": [
    "youpi <- sample(10)\n",
    "print(youpi)"
   ]
  },
  {
   "cell_type": "markdown",
   "metadata": {},
   "source": [
    "Quelle est l'utilité des fonctions suivantes :"
   ]
  },
  {
   "cell_type": "raw",
   "metadata": {},
   "source": [
    "min()\n",
    "max()\n",
    "range()\n",
    "mean()\n",
    "median()\n",
    "quantile()\n",
    "sort()\n",
    "sum()\n",
    "prod()\n",
    "dif()"
   ]
  },
  {
   "cell_type": "markdown",
   "metadata": {},
   "source": [
    "**Exercice** : répondez à la question en utilisant la boite ci dessous"
   ]
  },
  {
   "cell_type": "code",
   "execution_count": null,
   "metadata": {},
   "outputs": [],
   "source": []
  },
  {
   "cell_type": "markdown",
   "metadata": {},
   "source": [
    "### Premier petit exemple\n",
    "Nous allons travailler sur la masse de 4 individus :\n",
    "- Marc : 77 kg\n",
    "- Sophie : 58 kg\n",
    "- Julie : 66 kg\n",
    "- Blaise : 83 kg"
   ]
  },
  {
   "cell_type": "markdown",
   "metadata": {},
   "source": [
    "Etape 1 : créer un vecteur \"masse\" contenant la masse des 4 individus "
   ]
  },
  {
   "cell_type": "code",
   "execution_count": null,
   "metadata": {},
   "outputs": [],
   "source": []
  },
  {
   "cell_type": "markdown",
   "metadata": {},
   "source": [
    "Etape 2 : créer un vecteur \"nom\" contenant le nom des 4 individus"
   ]
  },
  {
   "cell_type": "code",
   "execution_count": null,
   "metadata": {},
   "outputs": [],
   "source": []
  },
  {
   "cell_type": "markdown",
   "metadata": {},
   "source": [
    "Etape 3 : construire un graphique avec la masse et le nom de chaque individu. Pour cela utiliser la fonction barpot(). Si vous ne savez pas l'utiliser, consultez l'aide !"
   ]
  },
  {
   "cell_type": "code",
   "execution_count": null,
   "metadata": {},
   "outputs": [],
   "source": []
  },
  {
   "cell_type": "markdown",
   "metadata": {},
   "source": [
    "## Les boucles et conditions"
   ]
  },
  {
   "cell_type": "markdown",
   "metadata": {},
   "source": [
    "Sous R, on peut programmer des suites d’analyses qui se font successivement. C'est un des intérêts de la programmation.\n",
    "Il existe 3 cas principaux :"
   ]
  },
  {
   "cell_type": "markdown",
   "metadata": {},
   "source": [
    "### La boucle FOR"
   ]
  },
  {
   "cell_type": "markdown",
   "metadata": {},
   "source": [
    "La boucle FOR permet d'exécuter une instruction sur certaines valeurs (que l'on connait !).\n",
    "\n",
    "**Exemple** : imaginons un vecteur aléatoire de taille 15. On veut ajouter le chiffre 2 à tous les nombres du vecteur à partir du rang 3 jusqu'au 10ème rang. Du rang 1 à 2 et à partir du rang 11, on ne fait rien.\n",
    "Pour cela utilisons la boucle FOR"
   ]
  },
  {
   "cell_type": "code",
   "execution_count": null,
   "metadata": {},
   "outputs": [],
   "source": [
    "# création du vecteur aléatoire\n",
    "vec <- sample(15)\n",
    "print(vec)\n",
    "\n",
    "# Avant de faire une boucle, il faut préparer le vecteur qui va recevoir le résultat.\n",
    "# Cela s'appelle une allocation de mémoire\n",
    "# Dans notre cas, on va recopier le vecteur vec\n",
    "vec2 <- vec\n",
    "\n",
    "# boucle FOR  : le résultat est le vecteur vec2\n",
    "for(ii in 3:10){vec2[ii] <- vec[ii]+2}\n",
    "print(vec2)"
   ]
  },
  {
   "cell_type": "markdown",
   "metadata": {},
   "source": [
    "Pour la boucle for, il faut bien respecter la synthaxe (i.e. mettre les parenthèses et les acolades au bon endroit) sinon le code ne fonctionne pas.\n",
    "\n",
    "La variable ii dans la boucle for va prendre successivement toutes les valeurs entre 3 et 10 (i.e : 3,4,5,6,7,8,9,10). Dans ce code, ces valeurs correspondent au rang du vecteur."
   ]
  },
  {
   "cell_type": "markdown",
   "metadata": {},
   "source": [
    "**Exercice** : Créer deux vecteurs aléatoires \"u\" et \"v\" de taille 8 chacun. Additionner ces deux vecteurs dans un troisième vecteur nommé \"w\" en utilisant une boucle for. Afficher le résultat."
   ]
  },
  {
   "cell_type": "code",
   "execution_count": null,
   "metadata": {},
   "outputs": [],
   "source": []
  },
  {
   "cell_type": "markdown",
   "metadata": {},
   "source": [
    "Cet exercice est pûrement pédagogique et peut se faire de beaucoup d'autres façons..."
   ]
  },
  {
   "cell_type": "markdown",
   "metadata": {},
   "source": [
    "**Exercice (plus dur !)** : L'objectif de cet exercice est de coder la suite de Fibonacci. C'est une suite de nombres entiers très connue. Les deux premiers termes de la suite sont 0 (1er terme) et 1 (2ème terme). Le 3ème terme est la somme du 1er et 2ème terme. Si l'on généralise, on dit que le n-ième terme est la somme du (n-1)ième terme et du (n-2)ième terme.\n",
    "\n",
    "Le début de la suite de Fibonacci est donc : 0,1,1,2,3,5,8,13...\n",
    "\n",
    "Coder la suite de Fibonacci pour les 100 premiers termes de la suite. Donner la valeur du 100ième terme de la suite."
   ]
  },
  {
   "cell_type": "code",
   "execution_count": null,
   "metadata": {},
   "outputs": [],
   "source": []
  },
  {
   "cell_type": "markdown",
   "metadata": {},
   "source": [
    "### La condition \"Tant que\""
   ]
  },
  {
   "cell_type": "markdown",
   "metadata": {},
   "source": [
    "La condition \"tant que\" (\"while\" en anglais) permet d'exécuter une instruction tant qu'une condition est vraie. \n",
    "\n",
    "Dans l'exemple suivant, on veut sommer deux entiers (s et n) et cela tant que l'entier \"s\" est plus petit ou égal à 100. A chaque itération, on ajoute 1 à l'entier \"n\" et \"s\" prend une nouvelle valeur correspondant à la somme de \"s\" et de \"n\"."
   ]
  },
  {
   "cell_type": "code",
   "execution_count": null,
   "metadata": {},
   "outputs": [],
   "source": [
    "# initialisation des variables\n",
    "seuil <- 100\n",
    "n <- 0\n",
    "s <- 0\n",
    "# condition \"tant que\"\n",
    "while (s <= seuil) {\n",
    "  n <- n + 1\n",
    "  s <- s + n }\n",
    "# affichage du résultat\n",
    "print(c(n,s))"
   ]
  },
  {
   "cell_type": "markdown",
   "metadata": {},
   "source": [
    "**Exercice** : Considérons une plante de 1 an qui mesure 10 centimètres et qui grandit de 10 % tous les ans jusqu’à atteindre 2 mètres. Combien lui faut-il d'années pour atteindre 2 mètres ? A vous de coder le problème pour trouver la solution"
   ]
  },
  {
   "cell_type": "code",
   "execution_count": null,
   "metadata": {},
   "outputs": [],
   "source": []
  },
  {
   "cell_type": "markdown",
   "metadata": {},
   "source": [
    "### La condition IF"
   ]
  },
  {
   "cell_type": "markdown",
   "metadata": {},
   "source": [
    "L'instruction IF permet d'exécuter du code si une condition est remplie.\n",
    "\n",
    "Par exemple, on va écrire \"Hello\" que pour des nombres inférieurs à 5. Pour choisir ce nombre, on va utiliser la fonction runif() qui tire aléatoirement un nombre dans une distribution uniforme comprise entre un nombre min (1 pour nous) et max (10 pour nous). Selon le nombre choisi, le code retournera \"Hello\" ou rien ! Exécuter le code plusieur fois pour voir la différence."
   ]
  },
  {
   "cell_type": "code",
   "execution_count": null,
   "metadata": {},
   "outputs": [],
   "source": [
    "# nombre aléatoire\n",
    "x <- runif(1, min = 1, max = 10)\n",
    "print(x)\n",
    "# condition if\n",
    "if (x <5) {print(\"Hello\")}"
   ]
  },
  {
   "cell_type": "markdown",
   "metadata": {},
   "source": [
    "En utilisant la commande \"IF.... ELSE\", on peut ajouter une condition : si la condition est remplie, on exécute une instruction sinon (else) on en exécute une différente.\n",
    "\n",
    "Reprennons l'exemple précédent et ajoutons la condition else : si le nombre est supérieur ou égal à 5, on affiche \"bye\"."
   ]
  },
  {
   "cell_type": "code",
   "execution_count": null,
   "metadata": {},
   "outputs": [],
   "source": [
    "# nombre aléatoire\n",
    "x <- runif(1, min = 1, max = 10)\n",
    "print(x)\n",
    "# condition if\n",
    "if (x <5) {print(\"Hello\")} else \n",
    "{print(\"Bye\")}"
   ]
  },
  {
   "cell_type": "markdown",
   "metadata": {},
   "source": [
    "Attention, lorsque l’on fait des regroupements et qu’on utilise la structure if et else, il est nécessaire d’écrire le mot else sur la même ligne que la parenthèse fermante du groupe d’instructions à réaliser dans le cas où la condition du if est vérifiée."
   ]
  },
  {
   "cell_type": "markdown",
   "metadata": {},
   "source": [
    "**Exercice** : On va créer aléatoirement un nombre entier compris entre 1 et 10. L'objectif est de créer un code permettant à l'utilisateur de savoir si ce nombre est pair ou impair. Le code doit afficher le résultat."
   ]
  },
  {
   "cell_type": "markdown",
   "metadata": {},
   "source": [
    "Aide : pour créer aléatoirement un nombre entier compris entre 1 et 10, utiliser la fonction suivante : sample(x = 1:10, size = 1)"
   ]
  },
  {
   "cell_type": "code",
   "execution_count": null,
   "metadata": {},
   "outputs": [],
   "source": []
  },
  {
   "cell_type": "markdown",
   "metadata": {},
   "source": [
    "Les trois conditions (IF, FOR, WHILE) peuvent également être combinées pour traiter des problèmes plus complexes."
   ]
  },
  {
   "cell_type": "markdown",
   "metadata": {},
   "source": [
    "**Exercice (plus dur !)** : Créer deux vecteurs aléatoires \"u\" et \"v\" avec la fonction sample(). On veut savoir si, pour chaque terme, le résultat de \"u+v\" est divisible par 3 ou pas. Afficher clairement le résultat."
   ]
  },
  {
   "cell_type": "code",
   "execution_count": null,
   "metadata": {},
   "outputs": [],
   "source": []
  },
  {
   "cell_type": "markdown",
   "metadata": {},
   "source": [
    "## Créer des fonctions\n",
    "Si vous êtes arrivé à lire ces mots sans vous endormir ou sans sur-chauffer, vous avez déjà utilisé des fonctions R (print, sample, runif, barplot...)\n",
    "Mais, on peut aussi créer nos propres fonctions dans le but de les réutiliser mais en modifiant des paramètres.\n",
    "\n",
    "Dans cet exemple, on va créer une fonction qui retourne un graphique pour y = cos( a.x ) avec x\n",
    "allant de 1 à 20.\n",
    "On veut pouvoir exécuter le code en spécifiant la valeur de « a » (c'est l'intérêt de créer une fonction !).\n",
    "Cette fonction se nommera cosA et demandera un paramètre d’entrée : a"
   ]
  },
  {
   "cell_type": "code",
   "execution_count": null,
   "metadata": {},
   "outputs": [],
   "source": [
    "cosA <- function(a){\n",
    "    x <- seq(1,20,by=0.2)\n",
    "    y <- cos(a*x)\n",
    "    plot(x,y,type='l')\n",
    "}"
   ]
  },
  {
   "cell_type": "markdown",
   "metadata": {},
   "source": [
    "La fonction est créée et s'appelle cosA. Notez bien la synthaxe utilisée pour créer une fonction.\n",
    "\n",
    "Il faut maintenant l'éxécuter pour voir le résultat (i.e. taper le nom de la fonction dans une boite). Cette fonction nécessite un paramètre d'entrée (a). Ne pas oublier de mettre se chiffre pour exécuter la fonction."
   ]
  },
  {
   "cell_type": "code",
   "execution_count": null,
   "metadata": {},
   "outputs": [],
   "source": [
    "cosA(3)"
   ]
  },
  {
   "cell_type": "markdown",
   "metadata": {},
   "source": [
    "On peut essayer avec d'autres valeurs de \"a\". Observer le résultat."
   ]
  },
  {
   "cell_type": "code",
   "execution_count": null,
   "metadata": {},
   "outputs": [],
   "source": []
  },
  {
   "cell_type": "markdown",
   "metadata": {},
   "source": [
    "**Exercice** : Lors des soldes, un commerçant cherche à appliquer des réductions sur ses produits mais il ne sait pas encore quel pourcentage appliquer. Commençons par un article à 99 euros. Créer une fonction avec un paramètre permettant de tester différentes réductions sur l'article. Soyez explicite dans les sorties de la fonction. C'est à dire, indiquez le pourcentage appliqué et le prix de revient de l'article."
   ]
  },
  {
   "cell_type": "code",
   "execution_count": null,
   "metadata": {},
   "outputs": [],
   "source": []
  },
  {
   "cell_type": "markdown",
   "metadata": {},
   "source": [
    "Exécutez votre fonction là :"
   ]
  },
  {
   "cell_type": "code",
   "execution_count": null,
   "metadata": {},
   "outputs": [],
   "source": []
  },
  {
   "cell_type": "markdown",
   "metadata": {},
   "source": [
    "**Exercice** (plus dur !) : Une fonction peut avoir plusieurs paramètres en entrée. Ajouter un paramètre à la fonction précédente pour pouvoir utiliser la fonction quelque soit le prix des articles. Ne pas utiliser le même nom que la fonction précédente."
   ]
  },
  {
   "cell_type": "code",
   "execution_count": null,
   "metadata": {},
   "outputs": [],
   "source": []
  },
  {
   "cell_type": "markdown",
   "metadata": {},
   "source": [
    "Exécuter votre fonction là :"
   ]
  },
  {
   "cell_type": "code",
   "execution_count": null,
   "metadata": {},
   "outputs": [],
   "source": []
  }
 ],
 "metadata": {
  "kernelspec": {
   "display_name": "R",
   "language": "R",
   "name": "ir"
  },
  "language_info": {
   "codemirror_mode": "r",
   "file_extension": ".r",
   "mimetype": "text/x-r-source",
   "name": "R",
   "pygments_lexer": "r",
   "version": "3.4.4"
  }
 },
 "nbformat": 4,
 "nbformat_minor": 4
}
